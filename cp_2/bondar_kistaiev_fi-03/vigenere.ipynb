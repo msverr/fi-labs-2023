{
 "cells": [
  {
   "attachments": {},
   "cell_type": "markdown",
   "metadata": {},
   "source": [
    "# Лабораторна робота 2 з Симетричної Криптографії\n",
    "\n",
    "**Варіант:** 2\n",
    "\n",
    "**Команда:** Бондар, Кістаєв\n",
    "\n",
    "**Група:** ФІ-03\n",
    "\n"
   ]
  },
  {
   "attachments": {},
   "cell_type": "markdown",
   "metadata": {},
   "source": [
    "## Підготовча частина: оголошення констант, функція для зчитування і передобробки тексту"
   ]
  },
  {
   "cell_type": "code",
   "execution_count": 40,
   "metadata": {},
   "outputs": [],
   "source": [
    "# Constants\n",
    "ALPH = \"абвгдежзийклмнопрстуфхцчшщъыьэюя\"\n",
    "PROBS = [0.0792, 0.0171, 0.0433, 0.0174, 0.0305, 0.0841, 0.0105, 0.0175,\n",
    "         0.0683, 0.0112, 0.0336, 0.0500, 0.0326, 0.0672, 0.1108, 0.0281,\n",
    "         0.0445, 0.0533, 0.0618, 0.0280, 0.0019, 0.0089, 0.0036, 0.0147,\n",
    "         0.0081, 0.0037, 0.0002, 0.0196, 0.0192, 0.0038, 0.0061, 0.0213]\n",
    "ALPH_SIZE = len(ALPH)\n",
    "RING = {}\n",
    "for char in ALPH:\n",
    "    pos = ALPH.index(char)\n",
    "    RING[char] = pos\n",
    "EXPECTED_I = sum([(p ** 2) for p in PROBS])\n",
    "I0 = 1.0 / ALPH_SIZE\n",
    "FILE_NAME = \"text.txt\"\n",
    "FILE_TO_ENCRYPT = \"text_to_encrypt.txt\""
   ]
  },
  {
   "cell_type": "code",
   "execution_count": 41,
   "metadata": {},
   "outputs": [],
   "source": [
    "# Text preprocessing\n",
    "def transform_symbol(_c):\n",
    "    if 'а' <= _c and _c <= 'я':\n",
    "        return _c\n",
    "    elif _c <= 'Я' and _c >= 'А':\n",
    "        return _c.lower()\n",
    "    elif _c == 'Ё' or _c == 'ё':\n",
    "        return 'е'\n",
    "    else:\n",
    "        return \"\"\n",
    "    \n",
    "def preprocess_text(_text):\n",
    "    text_formatted = \"\"\n",
    "    # Change symbols according to requirements\n",
    "    for c in _text:\n",
    "        text_formatted += transform_symbol(c)\n",
    "    # Remove consequtive spaces\n",
    "    text_formatted = ' '.join(text_formatted.split())\n",
    "    return text_formatted\n",
    "\n",
    "def read_text(filename):\n",
    "    f = open(filename, \"r\", encoding='utf-8')\n",
    "    text = f.read()\n",
    "    f.close()\n",
    "    return preprocess_text(text)"
   ]
  },
  {
   "attachments": {},
   "cell_type": "markdown",
   "metadata": {},
   "source": [
    "## Частина 1: Застосування шифру Віженера, обчислення індексів відповідності\n",
    "Для зашифрування ми обрали уривок з тексту для лабораторної роботи 1."
   ]
  },
  {
   "cell_type": "code",
   "execution_count": 42,
   "metadata": {},
   "outputs": [],
   "source": [
    "# Function to evaluate index of coincidence\n",
    "def coincidence_index(text: list) -> int:\n",
    "    sum = 0\n",
    "    for c in ALPH:\n",
    "        occurances = text.count(c)\n",
    "        sum += occurances * (occurances - 1)\n",
    "    return sum / (len(text) * (len(text) - 1))"
   ]
  },
  {
   "cell_type": "code",
   "execution_count": 43,
   "metadata": {},
   "outputs": [],
   "source": [
    "def encrypt_text(text: str, key: str):\n",
    "    res = \"\"\n",
    "    r = len(key)\n",
    "    for i in range(0, len(text), r):\n",
    "        for j in range(r):\n",
    "            if i + j == len(text):\n",
    "                break\n",
    "            id = (RING[text[i + j]] + RING[key[j]]) % ALPH_SIZE\n",
    "            res += ALPH[id]\n",
    "\n",
    "    return res"
   ]
  },
  {
   "cell_type": "code",
   "execution_count": 44,
   "metadata": {},
   "outputs": [
    {
     "name": "stdout",
     "output_type": "stream",
     "text": [
      "Indicies of coincidence:\n",
      "I_0 theoretical: 0.03125\n",
      "I_M theoretical: 0.055300129999999996\n",
      "I for Message: 0.057782276937813626\n",
      "I_2: 0.04393647476297772\n",
      "I_3: 0.043993077098912585\n",
      "I_4: 0.038089018058322176\n",
      "I_5: 0.038977239329915425\n",
      "I_15: 0.036002351173954214\n"
     ]
    }
   ],
   "source": [
    "key_2 = \"не\"\n",
    "key_3 = \"пон\"\n",
    "key_4 = \"зроз\"\n",
    "key_5 = \"катка\"\n",
    "key_n = \"фанаткаспартака\"\n",
    "\n",
    "decrypted = read_text(FILE_TO_ENCRYPT)\n",
    "encrypted_2 = encrypt_text(decrypted, key_2)\n",
    "encrypted_3 = encrypt_text(decrypted, key_3)\n",
    "encrypted_4 = encrypt_text(decrypted, key_4)\n",
    "encrypted_5 = encrypt_text(decrypted, key_5)\n",
    "encrypted_n = encrypt_text(decrypted, key_n)\n",
    "\n",
    "print(\"Indicies of coincidence:\")\n",
    "print(f\"I_0 theoretical: {I0}\")\n",
    "print(f\"I_M theoretical: {EXPECTED_I}\")\n",
    "print(f\"I for Message: {coincidence_index(decrypted)}\")\n",
    "print(f\"I_{len(key_2)}: {coincidence_index(encrypted_2)}\")\n",
    "print(f\"I_{len(key_3)}: {coincidence_index(encrypted_3)}\")\n",
    "print(f\"I_{len(key_4)}: {coincidence_index(encrypted_4)}\")\n",
    "print(f\"I_{len(key_5)}: {coincidence_index(encrypted_5)}\")\n",
    "print(f\"I_{len(key_n)}: {coincidence_index(encrypted_n)}\")"
   ]
  },
  {
   "attachments": {},
   "cell_type": "markdown",
   "metadata": {},
   "source": [
    "Як власне можна побачити, зі збільшенням довжини ключа, значення індексу відповідності для тексту все більше відрізняється від значення для початкового тексту і все більше прямує до значення $I_0$. Це відбувається, так як, при шифруванні тексту більшим ключем, він все більше втрачає статистичні властивості мови. "
   ]
  },
  {
   "attachments": {},
   "cell_type": "markdown",
   "metadata": {},
   "source": [
    "## Частина 2: Розшифровка тексту відповідно до варіанту (2)"
   ]
  },
  {
   "cell_type": "code",
   "execution_count": 45,
   "metadata": {},
   "outputs": [],
   "source": [
    "# Separate cyphertext according to key lenght\n",
    "def divide_into_blocks(text: list, r: int):\n",
    "    res = []\n",
    "    for i in range(r):\n",
    "        block = text[i::r] \n",
    "        res.append(block)\n",
    "    return res\n",
    "\n",
    "def coinc_idx_for_blocks(text: list, r: int):\n",
    "    idxs = []\n",
    "    blocks = divide_into_blocks(text, r)\n",
    "    for i in range(r):\n",
    "        idxs.append(coincidence_index(blocks[i]))\n",
    "    return idxs\n",
    "\n",
    "def summary_coinc_idx_for_diff_r(text: list):\n",
    "    idx_table = {}\n",
    "    # if we assume that len(KEY) divides len(text) -> itr through divisors\n",
    "    # also we decided to make unified solution (check also if key length > 30)\n",
    "    itr_range = range(2, int(len(text) / 2))     \n",
    "    for r in itr_range:\n",
    "        idx_table[r] = coinc_idx_for_blocks(text, r)\n",
    "    return idx_table"
   ]
  },
  {
   "cell_type": "code",
   "execution_count": 46,
   "metadata": {},
   "outputs": [],
   "source": [
    "from numpy.linalg import norm\n",
    "# Instead of comparing average idx diff, we measure vector distance and compare\n",
    "def compare_idx_vectors(left: list, right: list) -> bool:\n",
    "    left_dist = norm([EXPECTED_I - idx for idx in left])\n",
    "    right_dist = norm([EXPECTED_I - idx for idx in right])\n",
    "    return left_dist <= right_dist\n",
    "\n",
    "def get_best_r(text: list):\n",
    "    best_r = 2\n",
    "    idx_map = summary_coinc_idx_for_diff_r(text)\n",
    "    for (r, idx) in idx_map.items():\n",
    "        if compare_idx_vectors(idx, idx_map[best_r]):\n",
    "            best_r = r\n",
    "            print(f\"log  I_{r}: {sum(idx) / len(idx)}\")\n",
    "    return best_r"
   ]
  },
  {
   "attachments": {},
   "cell_type": "markdown",
   "metadata": {},
   "source": [
    "### Метод частот"
   ]
  },
  {
   "cell_type": "code",
   "execution_count": 47,
   "metadata": {},
   "outputs": [],
   "source": [
    "# Basic frequency method\n",
    "def crack_key_freq(text, r) -> str:\n",
    "    key = \"\"\n",
    "    blocks = divide_into_blocks(text, r)\n",
    "    for i in range(r):\n",
    "        y = RING[max(blocks[i], key = blocks[i].count)]\n",
    "        x = PROBS.index(max(PROBS))\n",
    "        k_i = (y - x) % ALPH_SIZE\n",
    "        key += ALPH[k_i]\n",
    "    return key"
   ]
  },
  {
   "cell_type": "code",
   "execution_count": 48,
   "metadata": {},
   "outputs": [],
   "source": [
    "# Modified frequency method which allow leave correct key parts\n",
    "# Execution without optional parameters is same as 'crack_key_freq()'\n",
    "def crack_key_freq_mod(text, r, found_pos=[], iteration=0, prev_key=\"\") -> str:\n",
    "    key = \"\"\n",
    "    blocks = divide_into_blocks(text, r)\n",
    "    for i in range(r):\n",
    "        if i not in found_pos:\n",
    "            y = RING[max(blocks[i], key = blocks[i].count)]\n",
    "            x = PROBS.index(sorted(PROBS)[-(iteration + 1)])\n",
    "            k_i = (y - x) % ALPH_SIZE\n",
    "            key += ALPH[k_i]\n",
    "        else:\n",
    "            key += prev_key[i]\n",
    "    return key"
   ]
  },
  {
   "attachments": {},
   "cell_type": "markdown",
   "metadata": {},
   "source": [
    "### Метод $M_i(g)$"
   ]
  },
  {
   "cell_type": "code",
   "execution_count": 49,
   "metadata": {},
   "outputs": [],
   "source": [
    "def crack_key_Mi(text, r) -> str:\n",
    "    key = \"\"\n",
    "    blocks = divide_into_blocks(text, r)\n",
    "    for i in range(r):\n",
    "        k_i = 0\n",
    "        M_max = 0\n",
    "        for g in range(ALPH_SIZE):\n",
    "            try_M = 0\n",
    "            for t in range(ALPH_SIZE):\n",
    "                try_M += PROBS[t] * blocks[i].count(ALPH[(t + g) % ALPH_SIZE])\n",
    "            if try_M > M_max:\n",
    "                M_max = try_M\n",
    "                k_i = g\n",
    "        key += ALPH[k_i]\n",
    "    return key"
   ]
  },
  {
   "attachments": {},
   "cell_type": "markdown",
   "metadata": {},
   "source": [
    "### Знаходження довжини ключа"
   ]
  },
  {
   "cell_type": "code",
   "execution_count": 50,
   "metadata": {},
   "outputs": [
    {
     "name": "stdout",
     "output_type": "stream",
     "text": [
      "log  I_2: 0.03626820548217928\n",
      "log  I_14: 0.05528168514213951\n",
      "Best key length: 14\n"
     ]
    }
   ],
   "source": [
    "text = read_text(FILE_NAME)\n",
    "# Best key length\n",
    "r = get_best_r(text)\n",
    "print(f\"Best key length: {r}\")"
   ]
  },
  {
   "attachments": {},
   "cell_type": "markdown",
   "metadata": {},
   "source": [
    "### Пошук ключа"
   ]
  },
  {
   "cell_type": "code",
   "execution_count": 51,
   "metadata": {},
   "outputs": [],
   "source": [
    "# Get indices with correct key parts\n",
    "def success_idxes(right_key, to_improve, r):\n",
    "    res = []\n",
    "    for i in range(r):\n",
    "        if right_key[i] == to_improve[i]:\n",
    "            res.append(i)\n",
    "    return res\n",
    "\n",
    "# This is to complete frequency method\n",
    "# Kind of simulation of checking artifacts in text manualy :)\n",
    "def crack_freq_iterable(text: str, r: int, expected_key: str):\n",
    "    key = crack_key_freq_mod(text, r)\n",
    "    for i in range(1, ALPH_SIZE):\n",
    "        print(f\"Freq key (itr {i - 1}): {key}\")\n",
    "        if key != expected_key:\n",
    "            found = success_idxes(expected_key, key, r)\n",
    "            key = crack_key_freq_mod(text, r, found_pos=found, iteration=i, prev_key=key)\n",
    "        else:\n",
    "            break\n",
    "    return key"
   ]
  },
  {
   "cell_type": "code",
   "execution_count": 52,
   "metadata": {},
   "outputs": [
    {
     "name": "stdout",
     "output_type": "stream",
     "text": [
      "Mi key: последнийдозор\n",
      "\n",
      "Freq key (itr 0): жосвеыдиадозор\n",
      "Freq key (itr 1): последнийдозор\n",
      "Freq key result: последнийдозор\n"
     ]
    }
   ],
   "source": [
    "keyMi = crack_key_Mi(text, r)\n",
    "print(f\"Mi key: {keyMi}\\n\")\n",
    "keyFreq = crack_freq_iterable(text, r, keyMi)\n",
    "print(f\"Freq key result: {keyFreq}\")"
   ]
  },
  {
   "attachments": {},
   "cell_type": "markdown",
   "metadata": {},
   "source": [
    "### Дешифрування тексту\n",
    "Так як в обох методах ми отримали однакові ключі, то використаємо тільки один з них."
   ]
  },
  {
   "cell_type": "code",
   "execution_count": 53,
   "metadata": {},
   "outputs": [],
   "source": [
    "# Function to decrypt texts with key\n",
    "def decrypt_text(text, key):\n",
    "    res = \"\"\n",
    "    r = len(key)\n",
    "    for i in range(0, len(text), r):\n",
    "        for j in range(r):\n",
    "            if i + j == len(text):\n",
    "                break\n",
    "            id = (RING[text[i + j]] - RING[key[j]]) % ALPH_SIZE\n",
    "            res += ALPH[id]\n",
    "\n",
    "    return res"
   ]
  },
  {
   "cell_type": "code",
   "execution_count": 54,
   "metadata": {},
   "outputs": [
    {
     "data": {
      "text/plain": [
       "'какясмогэтосделатьспросилгесерипочемуэтогонесмогсделатьтымыстоялипосредибескрайнейсеройравнинывзгляднефиксироваляркихкрасоквцелойкартиненостоиловсмотретьсявотдельнуюпесчинкуитавспыхивалазолотомбагрянцемлазурьюзеленьюнадголовойзастылобелоесрозовымбудтомолочнуюрекуперемешалискисельнымиберегамидаивыплеснуливнебесааещедулветерибылохолодномневсегдахолодноначетвертомслоесумраканоэтоиндивидуальнаяреакциягесерунапротивбыложарколицораскраснелосьполбустекаликапелькипотамненехватаетсилысказалялицогесерасовсемпобагровелоответнеправильныйтывысшиймагтакполучилосьслучайнонотывысшийпочемувысшихмаговтакженазываютмагамивнекатегорийпотомучторазницавсилемеждуниминастольконезначительначтонеможетбытьисчисленаиневозможноопределитьктосильнееактослабеепробормоталяборисигнатьевичяпонимаюномненехватаетсилыянемогупройтинапятыйслойгесерпосмотрелсебеподногиподделноскомботинкапесокподбросилввоздухшагнулвпередиисчезэточтосоветяподбросилпередсобойпесокшагнулвпередтщетнопытаясьпойматьсвоютеньтенинебылоничегонеизменилосьяпопрежнемуоставалсяначетвертомслоеистановилосьвсехолоднеепаротмоегодыханияуженерассеивалсябелымоблачкомаколючимиигламиосыпалсянапесокразвернувшисьэтовсегдапрощепсихологическиискатьвыходпозадиясделалшагивышелнатретийуровеньсумракавбесцветныйлабиринтизъеденныхвременемкаменныхплитнадкоторымисерелонизкоезастывшеенебокоегдепокамнюстелилисьвысохшиестеблипохожиенаприбитыйморозомвьюнокпереростокещешагвторойслойсумракакаменныйлабиринтнакрылипереплетенныеветвииещепервыйслойуженекаменьужестеныиокназнакомыестенымосковскогоофисаночногодозоравегосумеречномобличьепоследнимусилиемявывалилсяизсумракавреальныймирпрямовкабинетгесераразумеетсяшефужесиделвкреслеаяпошатываясьстоялпереднимнукаккаконмогменяопередитьведьонпошелнапятыйслойаяначалвыходитьизсумракакогдаяувиделчтоутебяничегонеполучаетсясказалгесердаженеглядянаменятовышелизсумраканапрямуюизпятогослоявнастоящиймирянесмогскрытьудивлениядачтотебяудивляетяпожалплечаминичегонеудивляетеслигесерзахочетпреподнестимнесюрпризунегобудетогромныйвыборяоченьмногогонезнаюиэтообидносказалгесерсядьгородецкийяселнапротивгесерасложилрукинаколеняхдажеголовуопустилбудтовчемточувствовалсвоювинуантонхорошиймагвсегдадостигаетсвоегомогуществавнужноевремясказалшефпоканестанешьмудреенестанешьсильнеепоканестанешьсильнеенеовладеешьвысшеймагиейпоканеовладеешьвысшеймагиейневлезешьвопасныеместаутебяситуацияуникальнаятыпопалподонпоморщилсязаклятиефуарантысталвысшиммагомнебудучикэтомуготовымдаутебяестьсиладатыумеешьеюуправлятьиточтотыструдомделалраньшетеперьнесоставляетпроблемсколькотыпробылначетвертомслоесумракаисидишькакнивчемнебывалоновотточеготынеумелраньшеонзамолчалянаучусьборисигнатьевичсказалявконцеконцоввсепризнаютчтояделаюзначительныеуспехиольгасветланаделаешьлегкопризналгесертыженесовсемидиотчтобынеразвиватьсяносейчастынапоминаешьмненеопытноговодителякоторыйполгодапокаталсянажигуляхивдругселзарульгоночногоферраринетхужезарулькарьерногосамосвалабелазавесомвдвеститоннчтоползетсебепоспираливыезжаетизкарьераарядомпропастьвсотнюметроватамвнизуедутдругиесамосвалыоднотвоеневерноедвижениерезкийповоротруляилидрогнувшаянапедалиногаплохобудетвсемпонимаюякивнулнояввысшиенервалсяборисигнатьевичэтовыменяотправиливпогонюзакостейятебянивчемнеупрекаюипытаюсьмногомунаучитьсказалгесеридовольнонепоследовательнодобавилхотьтыоднаждыиотказалсябытьмоимученикомяпромолчалоткрывпапкувеликийгесерзавязывалтесемкинабантикяобнаружилчетыресвеженькиеещепахнущиетипографскойкраскойгазетныевырезкифакситрифотографиитривырезкибылинаанглийскомнанихяисосредоточилсявпервуюочередьперваявырезкапредставляласобойкороткуюзаметкуопроисшествиивтуристическоматтракционеподземельяшотландиикакяпонялвэтомзаведениидовольнотакибанальномвариантекомнатыстрахаиззатехническихнеполадокпогибрусскийтуристподземельябылизакрытыполицияпроводитрасследованиеивыясняетнетливтрагедиивиныперсоналавтораязаметкабылакудаподробнеепротехническиенеполадкиуженебылонисловатекстбылнемножкосуховатымдажепедантичнымснарастающимволнениемяпрочиталчтопогибшийдвадцатипятилетнийвикторпрохоровучилсявэдинбургскомуниверситетебылсыномрусскогополитикавподземельяотправилсявместесневестойприлетевшейизроссиивалериейхомконарукахкоторойискончалсяотпотерикровивтемнотетуристическогоаттракционактотоперерезалемугорлоиличтотоперерезалобедолагасиделвместесневестойвлодочкекотораямедленноплылапокровавойрекемелкойканавкевокругзамкавампироввозможноизстеныторчалакакаятоостраяжелезкакотораяиполоснулавикторупошеедочитавдоэтогоместаявздохнулипосмотрелнагесераутебявсегдазамечательнополучалосьэээсвампирамисказалшефнасекундуоторвавшисьотсвоихбумагтретьязаметкабылаизкакойтожелтойшотландскойгазетенкиивоттутконечножеавторрассказалстрашнуюисториюпросовременныхвампировкоторыевомракеаттракционовсосуткровьсвоихжертвединственнойоригинальнойдетальюбылоутверждениежурналистачтообычновампирывысасываютсвоихжертвненасмертьнорусскийстуденткакположенорусскомубылнастолькопьянчтобедныйшотландскийвампиртожезахмелелиувлексянесмотрянавсютрагичностьисторииязасмеялсяжелтаяпрессаонавовсеммиреодинаковасказалгесернеподнимаяглазсамоеужасноечтотаквсеибылосказалякромепьянстваконечнокружкапивазаобедомсогласилсягесерчетвертаявырезкабылаизкакойтонашейгазетынекрологсоболезнованиялеонидупрохоровудепутатугосударственнойдумычейсынтрагическипогибявзяллистокфаксаэтокакяипредполагалбылодонесениеотночногодозорагородаэдинбургашотландиявеликобританиянемножконеобычнымоказалсялишьадресатсамгесеранеоперативныйдежурныйилируководительмеждународногоотделаитонписьмачутьболееличныйчемполагаетсявофициальныхдокументахасодержаниеменянеудивилосприскорбиемсообщаемпорезультатамтщательнопроведенногодознанияполнаяпотерякровипризнаковинициацииневыявленопроведенныепоискирезультатовнедалипривлеченылучшиесилыеслимосковскоеотделениесчитаетнеобходимымнаправитьпередавайсамыетеплыеприветыольгеоченьрадзатебястарыйковторойлистокфаксаотсутствовалвидимотамбылисключительноличныйтекстпоэтомуиподписиянеувиделфомалермонтсказалгесерглавашотландскогодозорастарыйдругагазадумчивопротянулязначитнашивзглядыопятьвстретилисьнетужродственниклионмихаилуюрьевичусамспросишьсказалгесеряодругомкоэтокомандиркоэтогесерзапнулсяисявнымнедовольствомпокосилсяналистоккоэтокоэтотебяуженекасаетсяяпосмотрелнафотографиимолодойчеловекэтоибылбедолагавиктордевушкасовсемюнаяегоневестачтотутгадатьимужикпостаршеотецвикторакосвенныеданныеговорятонападениивампиранопочемуситуациятребуетнашеговмешательстваспросилянашисоотечественникичастенькогибнутзарубежомиотвампировтожевынедоверяетефомеиегоподчиненнымдоверяюноунихмалоопыташотландиямирнаяуютнаяспокойнаястранаонимогутнесправитьсяатычастенькоимелделосвампирамиконечноивсетакиделовтомчтоегоотецполитикгесерпоморщилсядакакойонполитикбизнесменпробралсявдепутатынаголосованияхжметкнопкипотихонькукороткоияснононеверючтонетособойпричиныгесервздохнулотецюношидвадцатьлетназадбылопределенкакпотенциальныйсветлыйинойдовольносильныйотинициацииотказалсяобъявивчтохочетостатьсячеловекомтемныхсразужепослалпрочьноснамиподдерживалнекоторыеконтактыиногдапомогалякивнулдаслучайредкийнечастолюдиотказываютсяоттакихвозможностейчтооткрываютсяперединымиможносказатьчтоячувствуюсебявиноватымпередпрохоровымстаршимсказалгесериеслиужнемогупомочьсынутонепозволюегоубийцеуйтибезнаказаннымтыпоедешьвэдинбургнайдешьэтогосумасшедшегокровососаиразвеешьповетруэтобылприказнояибезтогонесобиралсяспоритькояневольнозапнулсякогдалететьзайдивмеждународныйотделтебедолжныбылиподготовитьдокументыбилетыденьгиилегенду'"
      ]
     },
     "execution_count": 54,
     "metadata": {},
     "output_type": "execute_result"
    }
   ],
   "source": [
    "decrypt_text(text, keyMi)"
   ]
  }
 ],
 "metadata": {
  "kernelspec": {
   "display_name": "Python 3",
   "language": "python",
   "name": "python3"
  },
  "language_info": {
   "codemirror_mode": {
    "name": "ipython",
    "version": 3
   },
   "file_extension": ".py",
   "mimetype": "text/x-python",
   "name": "python",
   "nbconvert_exporter": "python",
   "pygments_lexer": "ipython3",
   "version": "3.9.13"
  },
  "orig_nbformat": 4
 },
 "nbformat": 4,
 "nbformat_minor": 2
}
